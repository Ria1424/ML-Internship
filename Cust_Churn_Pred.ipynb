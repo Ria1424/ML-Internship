{
  "nbformat": 4,
  "nbformat_minor": 0,
  "metadata": {
    "colab": {
      "provenance": []
    },
    "kernelspec": {
      "name": "python3",
      "display_name": "Python 3"
    },
    "language_info": {
      "name": "python"
    }
  },
  "cells": [
    {
      "cell_type": "code",
      "execution_count": 3,
      "metadata": {
        "colab": {
          "base_uri": "https://localhost:8080/"
        },
        "id": "AHPQJwjWyaHT",
        "outputId": "e847dab0-2ef3-43ce-e4b7-9072e6dc64bb"
      },
      "outputs": [
        {
          "output_type": "stream",
          "name": "stdout",
          "text": [
            "   RowNumber  CustomerId   Surname  CreditScore Geography  Gender  Age  \\\n",
            "0          1    15634602  Hargrave          619    France  Female   42   \n",
            "1          2    15647311      Hill          608     Spain  Female   41   \n",
            "2          3    15619304      Onio          502    France  Female   42   \n",
            "3          4    15701354      Boni          699    France  Female   39   \n",
            "4          5    15737888  Mitchell          850     Spain  Female   43   \n",
            "\n",
            "   Tenure    Balance  NumOfProducts  HasCrCard  IsActiveMember  \\\n",
            "0       2       0.00              1          1               1   \n",
            "1       1   83807.86              1          0               1   \n",
            "2       8  159660.80              3          1               0   \n",
            "3       1       0.00              2          0               0   \n",
            "4       2  125510.82              1          1               1   \n",
            "\n",
            "   EstimatedSalary  Exited  \n",
            "0        101348.88       1  \n",
            "1        112542.58       0  \n",
            "2        113931.57       1  \n",
            "3         93826.63       0  \n",
            "4         79084.10       0  \n",
            "\n",
            "Logistic Regression:\n",
            "Accuracy: 0.789\n",
            "Classification Report:\n",
            "              precision    recall  f1-score   support\n",
            "\n",
            "           0       0.80      0.97      0.88      1595\n",
            "           1       0.37      0.06      0.11       405\n",
            "\n",
            "    accuracy                           0.79      2000\n",
            "   macro avg       0.59      0.52      0.49      2000\n",
            "weighted avg       0.72      0.79      0.72      2000\n",
            "\n",
            "\n",
            "Random Forest:\n",
            "Accuracy: 0.8675\n",
            "Classification Report:\n",
            "              precision    recall  f1-score   support\n",
            "\n",
            "           0       0.89      0.96      0.92      1595\n",
            "           1       0.75      0.51      0.61       405\n",
            "\n",
            "    accuracy                           0.87      2000\n",
            "   macro avg       0.82      0.74      0.77      2000\n",
            "weighted avg       0.86      0.87      0.86      2000\n",
            "\n",
            "\n",
            "Gradient Boosting:\n",
            "Accuracy: 0.865\n",
            "Classification Report:\n",
            "              precision    recall  f1-score   support\n",
            "\n",
            "           0       0.88      0.96      0.92      1595\n",
            "           1       0.75      0.50      0.60       405\n",
            "\n",
            "    accuracy                           0.86      2000\n",
            "   macro avg       0.82      0.73      0.76      2000\n",
            "weighted avg       0.86      0.86      0.85      2000\n",
            "\n"
          ]
        }
      ],
      "source": [
        "import pandas as pd\n",
        "from sklearn.model_selection import train_test_split\n",
        "from sklearn.preprocessing import LabelEncoder\n",
        "from sklearn.linear_model import LogisticRegression\n",
        "from sklearn.ensemble import RandomForestClassifier, GradientBoostingClassifier\n",
        "from sklearn.metrics import accuracy_score, classification_report\n",
        "\n",
        "data = pd.read_csv('Churn_Modelling.csv')\n",
        "\n",
        "print(data.head())\n",
        "\n",
        "X = data.iloc[:, 3:13]\n",
        "y = data.iloc[:, 13]\n",
        "\n",
        "label_encoder_X = LabelEncoder()\n",
        "X['Geography'] = label_encoder_X.fit_transform(X['Geography'])\n",
        "X['Gender'] = label_encoder_X.fit_transform(X['Gender'])\n",
        "\n",
        "X_train, X_test, y_train, y_test = train_test_split(X, y, test_size=0.2, random_state=0)\n",
        "\n",
        "def train_model(model, X_train, y_train, X_test, y_test):\n",
        "    model.fit(X_train, y_train)\n",
        "    y_pred = model.predict(X_test)\n",
        "    accuracy = accuracy_score(y_test, y_pred)\n",
        "    print(\"Accuracy:\", accuracy)\n",
        "    print(\"Classification Report:\")\n",
        "    print(classification_report(y_test, y_pred))\n",
        "\n",
        "print(\"\\nLogistic Regression:\")\n",
        "log_reg = LogisticRegression(random_state=0)\n",
        "train_model(log_reg, X_train, y_train, X_test, y_test)\n",
        "\n",
        "print(\"\\nRandom Forest:\")\n",
        "random_forest = RandomForestClassifier(n_estimators=100, random_state=0)\n",
        "train_model(random_forest, X_train, y_train, X_test, y_test)\n",
        "\n",
        "print(\"\\nGradient Boosting:\")\n",
        "gradient_boosting = GradientBoostingClassifier(n_estimators=100, random_state=0)\n",
        "train_model(gradient_boosting, X_train, y_train, X_test, y_test)\n"
      ]
    }
  ]
}